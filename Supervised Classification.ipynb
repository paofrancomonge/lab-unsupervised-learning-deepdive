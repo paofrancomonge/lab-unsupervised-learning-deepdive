{
 "cells": [
  {
   "cell_type": "markdown",
   "metadata": {},
   "source": [
    "# Supervised classification\n",
    "\n",
    "In the data.csv there are letters (uppercases and lowercases) and numbers, 28x28 pixels in a row format.\n",
    "\n",
    "* First, you need to know which labels are which, meaning you need to visualize some data to realize which number labels represents a letter, or a number."
   ]
  },
  {
   "cell_type": "code",
   "execution_count": 26,
   "metadata": {},
   "outputs": [],
   "source": [
    "# Import libraries\n",
    "\n",
    "import pandas as pd \n",
    "import numpy as np\n",
    "import matplotlib.pyplot as plt\n",
    "\n",
    "from sklearn.model_selection import train_test_split\n",
    "from sklearn.linear_model import LogisticRegression\n",
    "from sklearn.multiclass import OneVsOneClassifier \n",
    "from sklearn.svm import LinearSVC\n",
    "from sklearn.tree import DecisionTreeClassifier\n",
    "from sklearn.neighbors import KNeighborsClassifier\n",
    "\n",
    "from sklearn.metrics import accuracy_score\n",
    "from sklearn.metrics import confusion_matrix \n",
    "from sklearn.metrics import recall_score\n",
    "from sklearn.model_selection import cross_val_score "
   ]
  },
  {
   "cell_type": "code",
   "execution_count": 2,
   "metadata": {},
   "outputs": [
    {
     "data": {
      "text/html": [
       "<div>\n",
       "<style scoped>\n",
       "    .dataframe tbody tr th:only-of-type {\n",
       "        vertical-align: middle;\n",
       "    }\n",
       "\n",
       "    .dataframe tbody tr th {\n",
       "        vertical-align: top;\n",
       "    }\n",
       "\n",
       "    .dataframe thead th {\n",
       "        text-align: right;\n",
       "    }\n",
       "</style>\n",
       "<table border=\"1\" class=\"dataframe\">\n",
       "  <thead>\n",
       "    <tr style=\"text-align: right;\">\n",
       "      <th></th>\n",
       "      <th>e</th>\n",
       "      <th>1</th>\n",
       "      <th>2</th>\n",
       "      <th>3</th>\n",
       "      <th>4</th>\n",
       "      <th>5</th>\n",
       "      <th>6</th>\n",
       "      <th>7</th>\n",
       "      <th>8</th>\n",
       "      <th>9</th>\n",
       "      <th>...</th>\n",
       "      <th>775</th>\n",
       "      <th>776</th>\n",
       "      <th>777</th>\n",
       "      <th>778</th>\n",
       "      <th>779</th>\n",
       "      <th>780</th>\n",
       "      <th>781</th>\n",
       "      <th>782</th>\n",
       "      <th>783</th>\n",
       "      <th>784</th>\n",
       "    </tr>\n",
       "  </thead>\n",
       "  <tbody>\n",
       "    <tr>\n",
       "      <th>0</th>\n",
       "      <td>36.0</td>\n",
       "      <td>0.0</td>\n",
       "      <td>0.0</td>\n",
       "      <td>0.0</td>\n",
       "      <td>0.0</td>\n",
       "      <td>0.0</td>\n",
       "      <td>0.0</td>\n",
       "      <td>0.0</td>\n",
       "      <td>0.0</td>\n",
       "      <td>0.0</td>\n",
       "      <td>...</td>\n",
       "      <td>0.0</td>\n",
       "      <td>0.0</td>\n",
       "      <td>0.0</td>\n",
       "      <td>0.0</td>\n",
       "      <td>0.0</td>\n",
       "      <td>0.0</td>\n",
       "      <td>0.0</td>\n",
       "      <td>0.0</td>\n",
       "      <td>0.0</td>\n",
       "      <td>0.0</td>\n",
       "    </tr>\n",
       "    <tr>\n",
       "      <th>1</th>\n",
       "      <td>0.0</td>\n",
       "      <td>0.0</td>\n",
       "      <td>0.0</td>\n",
       "      <td>0.0</td>\n",
       "      <td>0.0</td>\n",
       "      <td>0.0</td>\n",
       "      <td>0.0</td>\n",
       "      <td>0.0</td>\n",
       "      <td>0.0</td>\n",
       "      <td>0.0</td>\n",
       "      <td>...</td>\n",
       "      <td>0.0</td>\n",
       "      <td>0.0</td>\n",
       "      <td>0.0</td>\n",
       "      <td>0.0</td>\n",
       "      <td>0.0</td>\n",
       "      <td>0.0</td>\n",
       "      <td>0.0</td>\n",
       "      <td>0.0</td>\n",
       "      <td>0.0</td>\n",
       "      <td>0.0</td>\n",
       "    </tr>\n",
       "    <tr>\n",
       "      <th>2</th>\n",
       "      <td>3.0</td>\n",
       "      <td>0.0</td>\n",
       "      <td>0.0</td>\n",
       "      <td>0.0</td>\n",
       "      <td>0.0</td>\n",
       "      <td>0.0</td>\n",
       "      <td>0.0</td>\n",
       "      <td>0.0</td>\n",
       "      <td>0.0</td>\n",
       "      <td>0.0</td>\n",
       "      <td>...</td>\n",
       "      <td>0.0</td>\n",
       "      <td>0.0</td>\n",
       "      <td>0.0</td>\n",
       "      <td>0.0</td>\n",
       "      <td>0.0</td>\n",
       "      <td>0.0</td>\n",
       "      <td>0.0</td>\n",
       "      <td>0.0</td>\n",
       "      <td>0.0</td>\n",
       "      <td>0.0</td>\n",
       "    </tr>\n",
       "    <tr>\n",
       "      <th>3</th>\n",
       "      <td>33.0</td>\n",
       "      <td>0.0</td>\n",
       "      <td>0.0</td>\n",
       "      <td>0.0</td>\n",
       "      <td>0.0</td>\n",
       "      <td>0.0</td>\n",
       "      <td>0.0</td>\n",
       "      <td>0.0</td>\n",
       "      <td>0.0</td>\n",
       "      <td>0.0</td>\n",
       "      <td>...</td>\n",
       "      <td>0.0</td>\n",
       "      <td>0.0</td>\n",
       "      <td>0.0</td>\n",
       "      <td>0.0</td>\n",
       "      <td>0.0</td>\n",
       "      <td>0.0</td>\n",
       "      <td>0.0</td>\n",
       "      <td>0.0</td>\n",
       "      <td>0.0</td>\n",
       "      <td>0.0</td>\n",
       "    </tr>\n",
       "    <tr>\n",
       "      <th>4</th>\n",
       "      <td>30.0</td>\n",
       "      <td>0.0</td>\n",
       "      <td>0.0</td>\n",
       "      <td>0.0</td>\n",
       "      <td>0.0</td>\n",
       "      <td>0.0</td>\n",
       "      <td>0.0</td>\n",
       "      <td>0.0</td>\n",
       "      <td>0.0</td>\n",
       "      <td>0.0</td>\n",
       "      <td>...</td>\n",
       "      <td>0.0</td>\n",
       "      <td>0.0</td>\n",
       "      <td>0.0</td>\n",
       "      <td>0.0</td>\n",
       "      <td>0.0</td>\n",
       "      <td>0.0</td>\n",
       "      <td>0.0</td>\n",
       "      <td>0.0</td>\n",
       "      <td>0.0</td>\n",
       "      <td>0.0</td>\n",
       "    </tr>\n",
       "  </tbody>\n",
       "</table>\n",
       "<p>5 rows × 785 columns</p>\n",
       "</div>"
      ],
      "text/plain": [
       "      e    1    2    3    4    5    6    7    8    9  ...  775  776  777  778  \\\n",
       "0  36.0  0.0  0.0  0.0  0.0  0.0  0.0  0.0  0.0  0.0  ...  0.0  0.0  0.0  0.0   \n",
       "1   0.0  0.0  0.0  0.0  0.0  0.0  0.0  0.0  0.0  0.0  ...  0.0  0.0  0.0  0.0   \n",
       "2   3.0  0.0  0.0  0.0  0.0  0.0  0.0  0.0  0.0  0.0  ...  0.0  0.0  0.0  0.0   \n",
       "3  33.0  0.0  0.0  0.0  0.0  0.0  0.0  0.0  0.0  0.0  ...  0.0  0.0  0.0  0.0   \n",
       "4  30.0  0.0  0.0  0.0  0.0  0.0  0.0  0.0  0.0  0.0  ...  0.0  0.0  0.0  0.0   \n",
       "\n",
       "   779  780  781  782  783  784  \n",
       "0  0.0  0.0  0.0  0.0  0.0  0.0  \n",
       "1  0.0  0.0  0.0  0.0  0.0  0.0  \n",
       "2  0.0  0.0  0.0  0.0  0.0  0.0  \n",
       "3  0.0  0.0  0.0  0.0  0.0  0.0  \n",
       "4  0.0  0.0  0.0  0.0  0.0  0.0  \n",
       "\n",
       "[5 rows x 785 columns]"
      ]
     },
     "execution_count": 2,
     "metadata": {},
     "output_type": "execute_result"
    }
   ],
   "source": [
    "# Your code here\n",
    "\n",
    "data = pd.read_csv('data_all.csv')\n",
    "data.head()"
   ]
  },
  {
   "cell_type": "code",
   "execution_count": 3,
   "metadata": {},
   "outputs": [
    {
     "data": {
      "text/plain": [
       "(116322, 785)"
      ]
     },
     "execution_count": 3,
     "metadata": {},
     "output_type": "execute_result"
    }
   ],
   "source": [
    "data.shape"
   ]
  },
  {
   "cell_type": "code",
   "execution_count": 4,
   "metadata": {},
   "outputs": [
    {
     "data": {
      "text/plain": [
       "1891.0"
      ]
     },
     "execution_count": 4,
     "metadata": {},
     "output_type": "execute_result"
    }
   ],
   "source": [
    "data['e'].unique().sum()"
   ]
  },
  {
   "cell_type": "code",
   "execution_count": 5,
   "metadata": {},
   "outputs": [
    {
     "data": {
      "text/plain": [
       "62"
      ]
     },
     "execution_count": 5,
     "metadata": {},
     "output_type": "execute_result"
    }
   ],
   "source": [
    "len(data['e'].unique())"
   ]
  },
  {
   "cell_type": "code",
   "execution_count": 6,
   "metadata": {},
   "outputs": [
    {
     "data": {
      "text/plain": [
       "<matplotlib.image.AxesImage at 0x7fa3144a6ac0>"
      ]
     },
     "execution_count": 6,
     "metadata": {},
     "output_type": "execute_result"
    },
    {
     "data": {
      "image/png": "[encoded data removed]",
      "text/plain": [
       "<Figure size 432x288 with 1 Axes>"
      ]
     },
     "metadata": {
      "needs_background": "light"
     },
     "output_type": "display_data"
    }
   ],
   "source": [
    "image = np.array(data.iloc[6,1:])\n",
    "plt.imshow(image.reshape(28, 28), cmap = plt.cm.bone)"
   ]
  },
  {
   "cell_type": "code",
   "execution_count": 7,
   "metadata": {},
   "outputs": [
    {
     "data": {
      "text/plain": [
       "<matplotlib.image.AxesImage at 0x7fa32f0ebf70>"
      ]
     },
     "execution_count": 7,
     "metadata": {},
     "output_type": "execute_result"
    },
    {
     "data": {
      "image/png": "[encoded data removed]",
      "text/plain": [
       "<Figure size 432x288 with 1 Axes>"
      ]
     },
     "metadata": {
      "needs_background": "light"
     },
     "output_type": "display_data"
    }
   ],
   "source": [
    "image = np.array(data.iloc[3,1:])\n",
    "plt.imshow(image.reshape(28, 28), cmap = plt.cm.bone)"
   ]
  },
  {
   "cell_type": "code",
   "execution_count": 8,
   "metadata": {},
   "outputs": [
    {
     "data": {
      "text/html": [
       "<div>\n",
       "<style scoped>\n",
       "    .dataframe tbody tr th:only-of-type {\n",
       "        vertical-align: middle;\n",
       "    }\n",
       "\n",
       "    .dataframe tbody tr th {\n",
       "        vertical-align: top;\n",
       "    }\n",
       "\n",
       "    .dataframe thead th {\n",
       "        text-align: right;\n",
       "    }\n",
       "</style>\n",
       "<table border=\"1\" class=\"dataframe\">\n",
       "  <thead>\n",
       "    <tr style=\"text-align: right;\">\n",
       "      <th></th>\n",
       "      <th>e</th>\n",
       "      <th>1</th>\n",
       "      <th>2</th>\n",
       "      <th>3</th>\n",
       "      <th>4</th>\n",
       "      <th>5</th>\n",
       "      <th>6</th>\n",
       "      <th>7</th>\n",
       "      <th>8</th>\n",
       "      <th>9</th>\n",
       "      <th>...</th>\n",
       "      <th>778</th>\n",
       "      <th>779</th>\n",
       "      <th>780</th>\n",
       "      <th>781</th>\n",
       "      <th>782</th>\n",
       "      <th>783</th>\n",
       "      <th>784</th>\n",
       "      <th>number</th>\n",
       "      <th>uppercase</th>\n",
       "      <th>lowercase</th>\n",
       "    </tr>\n",
       "  </thead>\n",
       "  <tbody>\n",
       "    <tr>\n",
       "      <th>0</th>\n",
       "      <td>36.0</td>\n",
       "      <td>0.0</td>\n",
       "      <td>0.0</td>\n",
       "      <td>0.0</td>\n",
       "      <td>0.0</td>\n",
       "      <td>0.0</td>\n",
       "      <td>0.0</td>\n",
       "      <td>0.0</td>\n",
       "      <td>0.0</td>\n",
       "      <td>0.0</td>\n",
       "      <td>...</td>\n",
       "      <td>0.0</td>\n",
       "      <td>0.0</td>\n",
       "      <td>0.0</td>\n",
       "      <td>0.0</td>\n",
       "      <td>0.0</td>\n",
       "      <td>0.0</td>\n",
       "      <td>0.0</td>\n",
       "      <td>0</td>\n",
       "      <td>0</td>\n",
       "      <td>1</td>\n",
       "    </tr>\n",
       "    <tr>\n",
       "      <th>1</th>\n",
       "      <td>0.0</td>\n",
       "      <td>0.0</td>\n",
       "      <td>0.0</td>\n",
       "      <td>0.0</td>\n",
       "      <td>0.0</td>\n",
       "      <td>0.0</td>\n",
       "      <td>0.0</td>\n",
       "      <td>0.0</td>\n",
       "      <td>0.0</td>\n",
       "      <td>0.0</td>\n",
       "      <td>...</td>\n",
       "      <td>0.0</td>\n",
       "      <td>0.0</td>\n",
       "      <td>0.0</td>\n",
       "      <td>0.0</td>\n",
       "      <td>0.0</td>\n",
       "      <td>0.0</td>\n",
       "      <td>0.0</td>\n",
       "      <td>1</td>\n",
       "      <td>0</td>\n",
       "      <td>0</td>\n",
       "    </tr>\n",
       "    <tr>\n",
       "      <th>2</th>\n",
       "      <td>3.0</td>\n",
       "      <td>0.0</td>\n",
       "      <td>0.0</td>\n",
       "      <td>0.0</td>\n",
       "      <td>0.0</td>\n",
       "      <td>0.0</td>\n",
       "      <td>0.0</td>\n",
       "      <td>0.0</td>\n",
       "      <td>0.0</td>\n",
       "      <td>0.0</td>\n",
       "      <td>...</td>\n",
       "      <td>0.0</td>\n",
       "      <td>0.0</td>\n",
       "      <td>0.0</td>\n",
       "      <td>0.0</td>\n",
       "      <td>0.0</td>\n",
       "      <td>0.0</td>\n",
       "      <td>0.0</td>\n",
       "      <td>1</td>\n",
       "      <td>0</td>\n",
       "      <td>0</td>\n",
       "    </tr>\n",
       "    <tr>\n",
       "      <th>3</th>\n",
       "      <td>33.0</td>\n",
       "      <td>0.0</td>\n",
       "      <td>0.0</td>\n",
       "      <td>0.0</td>\n",
       "      <td>0.0</td>\n",
       "      <td>0.0</td>\n",
       "      <td>0.0</td>\n",
       "      <td>0.0</td>\n",
       "      <td>0.0</td>\n",
       "      <td>0.0</td>\n",
       "      <td>...</td>\n",
       "      <td>0.0</td>\n",
       "      <td>0.0</td>\n",
       "      <td>0.0</td>\n",
       "      <td>0.0</td>\n",
       "      <td>0.0</td>\n",
       "      <td>0.0</td>\n",
       "      <td>0.0</td>\n",
       "      <td>0</td>\n",
       "      <td>1</td>\n",
       "      <td>0</td>\n",
       "    </tr>\n",
       "    <tr>\n",
       "      <th>4</th>\n",
       "      <td>30.0</td>\n",
       "      <td>0.0</td>\n",
       "      <td>0.0</td>\n",
       "      <td>0.0</td>\n",
       "      <td>0.0</td>\n",
       "      <td>0.0</td>\n",
       "      <td>0.0</td>\n",
       "      <td>0.0</td>\n",
       "      <td>0.0</td>\n",
       "      <td>0.0</td>\n",
       "      <td>...</td>\n",
       "      <td>0.0</td>\n",
       "      <td>0.0</td>\n",
       "      <td>0.0</td>\n",
       "      <td>0.0</td>\n",
       "      <td>0.0</td>\n",
       "      <td>0.0</td>\n",
       "      <td>0.0</td>\n",
       "      <td>0</td>\n",
       "      <td>1</td>\n",
       "      <td>0</td>\n",
       "    </tr>\n",
       "  </tbody>\n",
       "</table>\n",
       "<p>5 rows × 788 columns</p>\n",
       "</div>"
      ],
      "text/plain": [
       "      e    1    2    3    4    5    6    7    8    9  ...  778  779  780  781  \\\n",
       "0  36.0  0.0  0.0  0.0  0.0  0.0  0.0  0.0  0.0  0.0  ...  0.0  0.0  0.0  0.0   \n",
       "1   0.0  0.0  0.0  0.0  0.0  0.0  0.0  0.0  0.0  0.0  ...  0.0  0.0  0.0  0.0   \n",
       "2   3.0  0.0  0.0  0.0  0.0  0.0  0.0  0.0  0.0  0.0  ...  0.0  0.0  0.0  0.0   \n",
       "3  33.0  0.0  0.0  0.0  0.0  0.0  0.0  0.0  0.0  0.0  ...  0.0  0.0  0.0  0.0   \n",
       "4  30.0  0.0  0.0  0.0  0.0  0.0  0.0  0.0  0.0  0.0  ...  0.0  0.0  0.0  0.0   \n",
       "\n",
       "   782  783  784  number  uppercase  lowercase  \n",
       "0  0.0  0.0  0.0       0          0          1  \n",
       "1  0.0  0.0  0.0       1          0          0  \n",
       "2  0.0  0.0  0.0       1          0          0  \n",
       "3  0.0  0.0  0.0       0          1          0  \n",
       "4  0.0  0.0  0.0       0          1          0  \n",
       "\n",
       "[5 rows x 788 columns]"
      ]
     },
     "execution_count": 8,
     "metadata": {},
     "output_type": "execute_result"
    }
   ],
   "source": [
    "# Your code here\n",
    "\n",
    "#https://isn.ucsd.edu/courses/beng260/2017/reports/2017_Group2.pdf\n",
    "#Dígitos van del 0 al 9\n",
    "#Mayúsculas van del 10 al 35 \n",
    "#Minùsculas van del 36 en adelante \n",
    "\n",
    "data['number'] =  np.where(data['e'] < 10, 1, 0)\n",
    "data['uppercase'] =  np.where((data['e'] < 36) & (data['e'] > 9), 1, 0)\n",
    "data['lowercase'] =  np.where(data['e'] > 35, 1, 0)\n",
    "\n",
    "data.head()"
   ]
  },
  {
   "cell_type": "markdown",
   "metadata": {},
   "source": [
    "* Now, try to train a classifier model to predict the uppercases. Use every single model you know for classification."
   ]
  },
  {
   "cell_type": "code",
   "execution_count": 37,
   "metadata": {},
   "outputs": [],
   "source": [
    "# Your code here\n",
    "\n",
    "x = data.drop(columns = ['e', 'number', 'uppercase', 'lowercase'])\n",
    "y_uppercase = data['uppercase']\n",
    "y_lowercase = data['lowercase']\n",
    "y_number = data['number']\n",
    "\n",
    "#Datos de entrenamiento y test \n",
    "x_train_uppercase, x_test_uppercase, y_train_uppercase, y_test_uppercase = train_test_split(x, y_uppercase, test_size = .2, random_state = 0)\n"
   ]
  },
  {
   "cell_type": "code",
   "execution_count": 24,
   "metadata": {},
   "outputs": [
    {
     "name": "stderr",
     "output_type": "stream",
     "text": [
      "/Library/Frameworks/Python.framework/Versions/3.8/lib/python3.8/site-packages/sklearn/svm/_base.py:976: ConvergenceWarning: Liblinear failed to converge, increase the number of iterations.\n",
      "  warnings.warn(\"Liblinear failed to converge, increase \"\n",
      "/Library/Frameworks/Python.framework/Versions/3.8/lib/python3.8/site-packages/sklearn/svm/_base.py:976: ConvergenceWarning: Liblinear failed to converge, increase the number of iterations.\n",
      "  warnings.warn(\"Liblinear failed to converge, increase \"\n",
      "/Library/Frameworks/Python.framework/Versions/3.8/lib/python3.8/site-packages/sklearn/svm/_base.py:976: ConvergenceWarning: Liblinear failed to converge, increase the number of iterations.\n",
      "  warnings.warn(\"Liblinear failed to converge, increase \"\n",
      "/Library/Frameworks/Python.framework/Versions/3.8/lib/python3.8/site-packages/sklearn/svm/_base.py:976: ConvergenceWarning: Liblinear failed to converge, increase the number of iterations.\n",
      "  warnings.warn(\"Liblinear failed to converge, increase \"\n"
     ]
    },
    {
     "name": "stdout",
     "output_type": "stream",
     "text": [
      "The accuracy score of the model is: 0.7487212551042338\n",
      "The F1 of the model is: 0.7082596353053138\n",
      "The confusion matrix of the model is: [[15947  1090]\n",
      " [ 4756  1472]]\n",
      "The recall score of the model is: 0.2363519588953115\n"
     ]
    }
   ],
   "source": [
    "#Logistic Regression \n",
    "logistic = LogisticRegression(solver = 'liblinear')\n",
    "logistic.fit(x_train_uppercase, y_train_uppercase)\n",
    "y_pred_uppercase = logistic.predict(x_test_uppercase)\n",
    "\n",
    "#Evaluate the model \n",
    "accuracy = accuracy_score(y_test_uppercase, y_pred_uppercase)\n",
    "f1 = cross_val_score(logistic, x , y_uppercase, scoring='f1_weighted',cv=3)\n",
    "confusion = confusion_matrix(y_test_uppercase, y_pred_uppercase)\n",
    "recall = recall_score(y_test_uppercase, y_pred_uppercase)\n",
    "\n",
    "#Print the metrics for the model \n",
    "print(f'The accuracy score of the model is: {accuracy}')\n",
    "print(f'The F1 of the model is: {f1.mean()}')\n",
    "print(f'The confusion matrix of the model is: {confusion}')\n",
    "print(f'The recall score of the model is: {recall}')"
   ]
  },
  {
   "cell_type": "code",
   "execution_count": 28,
   "metadata": {},
   "outputs": [
    {
     "name": "stderr",
     "output_type": "stream",
     "text": [
      "/Library/Frameworks/Python.framework/Versions/3.8/lib/python3.8/site-packages/sklearn/svm/_base.py:976: ConvergenceWarning: Liblinear failed to converge, increase the number of iterations.\n",
      "  warnings.warn(\"Liblinear failed to converge, increase \"\n",
      "/Library/Frameworks/Python.framework/Versions/3.8/lib/python3.8/site-packages/sklearn/svm/_base.py:976: ConvergenceWarning: Liblinear failed to converge, increase the number of iterations.\n",
      "  warnings.warn(\"Liblinear failed to converge, increase \"\n",
      "/Library/Frameworks/Python.framework/Versions/3.8/lib/python3.8/site-packages/sklearn/svm/_base.py:976: ConvergenceWarning: Liblinear failed to converge, increase the number of iterations.\n",
      "  warnings.warn(\"Liblinear failed to converge, increase \"\n"
     ]
    },
    {
     "name": "stdout",
     "output_type": "stream",
     "text": [
      "The accuracy score of the model is: 0.6959381044487427\n",
      "The F1 of the model is: 0.7082596353053138\n",
      "The confusion matrix of the model is: [[14741  2296]\n",
      " [ 4778  1450]]\n",
      "The recall score of the model is: 0.23281952472703918\n"
     ]
    },
    {
     "name": "stderr",
     "output_type": "stream",
     "text": [
      "/Library/Frameworks/Python.framework/Versions/3.8/lib/python3.8/site-packages/sklearn/svm/_base.py:976: ConvergenceWarning: Liblinear failed to converge, increase the number of iterations.\n",
      "  warnings.warn(\"Liblinear failed to converge, increase \"\n"
     ]
    }
   ],
   "source": [
    "#SVM Classifier \n",
    "svm = OneVsOneClassifier(LinearSVC(random_state = 0, max_iter = 4000))\n",
    "svm.fit(x_train_uppercase, y_train_uppercase)\n",
    "y_pred_uppercase = svm.predict(x_test_uppercase)\n",
    "\n",
    "#Evaluate the model \n",
    "accuracy = accuracy_score(y_test_uppercase, y_pred_uppercase)\n",
    "f1 = cross_val_score(logistic, x , y_uppercase, scoring='f1_weighted',cv=3)\n",
    "confusion = confusion_matrix(y_test_uppercase, y_pred_uppercase)\n",
    "recall = recall_score(y_test_uppercase, y_pred_uppercase)\n",
    "\n",
    "#Print the metrics for the model \n",
    "print(f'The accuracy score of the model is: {accuracy}')\n",
    "print(f'The F1 of the model is: {f1.mean()}')\n",
    "print(f'The confusion matrix of the model is: {confusion}')\n",
    "print(f'The recall score of the model is: {recall}')"
   ]
  },
  {
   "cell_type": "code",
   "execution_count": 29,
   "metadata": {},
   "outputs": [
    {
     "name": "stderr",
     "output_type": "stream",
     "text": [
      "/Library/Frameworks/Python.framework/Versions/3.8/lib/python3.8/site-packages/sklearn/svm/_base.py:976: ConvergenceWarning: Liblinear failed to converge, increase the number of iterations.\n",
      "  warnings.warn(\"Liblinear failed to converge, increase \"\n",
      "/Library/Frameworks/Python.framework/Versions/3.8/lib/python3.8/site-packages/sklearn/svm/_base.py:976: ConvergenceWarning: Liblinear failed to converge, increase the number of iterations.\n",
      "  warnings.warn(\"Liblinear failed to converge, increase \"\n"
     ]
    },
    {
     "name": "stdout",
     "output_type": "stream",
     "text": [
      "The accuracy score of the model is: 0.7496238985600687\n",
      "The F1 of the model is: 0.7082596353053138\n",
      "The confusion matrix of the model is: [[16698   339]\n",
      " [ 5486   742]]\n",
      "The recall score of the model is: 0.1191393705844573\n"
     ]
    },
    {
     "name": "stderr",
     "output_type": "stream",
     "text": [
      "/Library/Frameworks/Python.framework/Versions/3.8/lib/python3.8/site-packages/sklearn/svm/_base.py:976: ConvergenceWarning: Liblinear failed to converge, increase the number of iterations.\n",
      "  warnings.warn(\"Liblinear failed to converge, increase \"\n"
     ]
    }
   ],
   "source": [
    "#Decision Tree \n",
    "params = {'random_state': 0, 'max_depth': 4}\n",
    "tree = DecisionTreeClassifier(**params)\n",
    "tree.fit(x_train_uppercase, y_train_uppercase)\n",
    "y_pred_uppercase = tree.predict(x_test_uppercase)\n",
    "\n",
    "#Evaluate the model \n",
    "accuracy = accuracy_score(y_test_uppercase, y_pred_uppercase)\n",
    "f1 = cross_val_score(logistic, x , y_uppercase, scoring='f1_weighted',cv=3)\n",
    "confusion = confusion_matrix(y_test_uppercase, y_pred_uppercase)\n",
    "recall = recall_score(y_test_uppercase, y_pred_uppercase)\n",
    "\n",
    "#Print the metrics for the model \n",
    "print(f'The accuracy score of the model is: {accuracy}')\n",
    "print(f'The F1 of the model is: {f1.mean()}')\n",
    "print(f'The confusion matrix of the model is: {confusion}')\n",
    "print(f'The recall score of the model is: {recall}')"
   ]
  },
  {
   "cell_type": "code",
   "execution_count": 31,
   "metadata": {},
   "outputs": [
    {
     "name": "stderr",
     "output_type": "stream",
     "text": [
      "/Library/Frameworks/Python.framework/Versions/3.8/lib/python3.8/site-packages/sklearn/svm/_base.py:976: ConvergenceWarning: Liblinear failed to converge, increase the number of iterations.\n",
      "  warnings.warn(\"Liblinear failed to converge, increase \"\n",
      "/Library/Frameworks/Python.framework/Versions/3.8/lib/python3.8/site-packages/sklearn/svm/_base.py:976: ConvergenceWarning: Liblinear failed to converge, increase the number of iterations.\n",
      "  warnings.warn(\"Liblinear failed to converge, increase \"\n",
      "/Library/Frameworks/Python.framework/Versions/3.8/lib/python3.8/site-packages/sklearn/svm/_base.py:976: ConvergenceWarning: Liblinear failed to converge, increase the number of iterations.\n",
      "  warnings.warn(\"Liblinear failed to converge, increase \"\n"
     ]
    },
    {
     "name": "stdout",
     "output_type": "stream",
     "text": [
      "The accuracy score of the model is: 0.8612078229099506\n",
      "The F1 of the model is: 0.7082596353053138\n",
      "The confusion matrix of the model is: [[15766  1271]\n",
      " [ 1958  4270]]\n",
      "The recall score of the model is: 0.6856133590237636\n"
     ]
    }
   ],
   "source": [
    "#KNeighbors \n",
    "num_neighbors = 12\n",
    "kneigh = KNeighborsClassifier(num_neighbors, weights = 'distance')\n",
    "kneigh.fit(x_train_uppercase, y_train_uppercase)\n",
    "y_pred_uppercase = kneigh.predict(x_test_uppercase)\n",
    "\n",
    "#Evaluate the model \n",
    "accuracy = accuracy_score(y_test_uppercase, y_pred_uppercase)\n",
    "f1 = cross_val_score(logistic, x , y_uppercase, scoring='f1_weighted',cv=3)\n",
    "confusion = confusion_matrix(y_test_uppercase, y_pred_uppercase)\n",
    "recall = recall_score(y_test_uppercase, y_pred_uppercase)\n",
    "\n",
    "#Print the metrics for the model \n",
    "print(f'The accuracy score of the model is: {accuracy}')\n",
    "print(f'The F1 of the model is: {f1.mean()}')\n",
    "print(f'The confusion matrix of the model is: {confusion}')\n",
    "print(f'The recall score of the model is: {recall}')"
   ]
  },
  {
   "cell_type": "markdown",
   "metadata": {},
   "source": [
    "* Try to do the same thing with lowercases."
   ]
  },
  {
   "cell_type": "code",
   "execution_count": 32,
   "metadata": {},
   "outputs": [],
   "source": [
    "# Your code here\n",
    "\n",
    "#Datos de entrenamiento y test \n",
    "x_train_lowercase, x_test_lowercase, y_train_lowercase, y_test_lowercase = train_test_split(x, y_lowercase, test_size = .2, random_state = 0)\n"
   ]
  },
  {
   "cell_type": "code",
   "execution_count": 33,
   "metadata": {},
   "outputs": [
    {
     "name": "stdout",
     "output_type": "stream",
     "text": [
      "The accuracy score of the model is: 0.8100580270793036\n",
      "The F1 of the model is: 0.7900691011203286\n",
      "The confusion matrix of the model is: [[16873   972]\n",
      " [ 3447  1973]]\n",
      "The recall score of the model is: 0.3640221402214022\n"
     ]
    }
   ],
   "source": [
    "#Logistic Regression \n",
    "logistic = LogisticRegression(solver = 'liblinear')\n",
    "logistic.fit(x_train_lowercase, y_train_lowercase)\n",
    "y_pred_lowercase = logistic.predict(x_test_lowercase)\n",
    "\n",
    "#Evaluate the model \n",
    "accuracy = accuracy_score(y_test_lowercase, y_pred_lowercase)\n",
    "f1 = cross_val_score(logistic, x , y_lowercase, scoring='f1_weighted',cv=3)\n",
    "confusion = confusion_matrix(y_test_lowercase, y_pred_lowercase)\n",
    "recall = recall_score(y_test_lowercase, y_pred_lowercase)\n",
    "\n",
    "#Print the metrics for the model \n",
    "print(f'The accuracy score of the model is: {accuracy}')\n",
    "print(f'The F1 of the model is: {f1.mean()}')\n",
    "print(f'The confusion matrix of the model is: {confusion}')\n",
    "print(f'The recall score of the model is: {recall}')"
   ]
  },
  {
   "cell_type": "code",
   "execution_count": 34,
   "metadata": {},
   "outputs": [
    {
     "name": "stderr",
     "output_type": "stream",
     "text": [
      "/Library/Frameworks/Python.framework/Versions/3.8/lib/python3.8/site-packages/sklearn/svm/_base.py:976: ConvergenceWarning: Liblinear failed to converge, increase the number of iterations.\n",
      "  warnings.warn(\"Liblinear failed to converge, increase \"\n"
     ]
    },
    {
     "name": "stdout",
     "output_type": "stream",
     "text": [
      "The accuracy score of the model is: 0.7028153879217709\n",
      "The F1 of the model is: 0.7900691011203286\n",
      "The confusion matrix of the model is: [[13569  4276]\n",
      " [ 2638  2782]]\n",
      "The recall score of the model is: 0.5132841328413285\n"
     ]
    }
   ],
   "source": [
    "#SVM Classifier \n",
    "svm = OneVsOneClassifier(LinearSVC(random_state = 0, max_iter = 4000))\n",
    "svm.fit(x_train_lowercase, y_train_lowercase)\n",
    "y_pred_lowercase = svm.predict(x_test_lowercase)\n",
    "\n",
    "#Evaluate the model \n",
    "accuracy = accuracy_score(y_test_lowercase, y_pred_lowercase)\n",
    "f1 = cross_val_score(logistic, x , y_lowercase, scoring='f1_weighted',cv=3)\n",
    "confusion = confusion_matrix(y_test_lowercase, y_pred_lowercase)\n",
    "recall = recall_score(y_test_lowercase, y_pred_lowercase)\n",
    "\n",
    "#Print the metrics for the model \n",
    "print(f'The accuracy score of the model is: {accuracy}')\n",
    "print(f'The F1 of the model is: {f1.mean()}')\n",
    "print(f'The confusion matrix of the model is: {confusion}')\n",
    "print(f'The recall score of the model is: {recall}')"
   ]
  },
  {
   "cell_type": "code",
   "execution_count": 35,
   "metadata": {},
   "outputs": [
    {
     "name": "stdout",
     "output_type": "stream",
     "text": [
      "The accuracy score of the model is: 0.7688802922845476\n",
      "The F1 of the model is: 0.7900691011203286\n",
      "The confusion matrix of the model is: [[16872   973]\n",
      " [ 4404  1016]]\n",
      "The recall score of the model is: 0.18745387453874537\n"
     ]
    }
   ],
   "source": [
    "#Decision Tree \n",
    "params = {'random_state': 0, 'max_depth': 4}\n",
    "tree = DecisionTreeClassifier(**params)\n",
    "tree.fit(x_train_lowercase, y_train_lowercase)\n",
    "y_pred_lowercase = tree.predict(x_test_lowercase)\n",
    "\n",
    "#Evaluate the model \n",
    "accuracy = accuracy_score(y_test_lowercase, y_pred_lowercase)\n",
    "f1 = cross_val_score(logistic, x , y_lowercase, scoring='f1_weighted',cv=3)\n",
    "confusion = confusion_matrix(y_test_lowercase, y_pred_lowercase)\n",
    "recall = recall_score(y_test_lowercase, y_pred_lowercase)\n",
    "\n",
    "#Print the metrics for the model \n",
    "print(f'The accuracy score of the model is: {accuracy}')\n",
    "print(f'The F1 of the model is: {f1.mean()}')\n",
    "print(f'The confusion matrix of the model is: {confusion}')\n",
    "print(f'The recall score of the model is: {recall}')"
   ]
  },
  {
   "cell_type": "code",
   "execution_count": 36,
   "metadata": {},
   "outputs": [
    {
     "name": "stdout",
     "output_type": "stream",
     "text": [
      "The accuracy score of the model is: 0.8848914678701912\n",
      "The F1 of the model is: 0.7900691011203286\n",
      "The confusion matrix of the model is: [[17127   718]\n",
      " [ 1960  3460]]\n",
      "The recall score of the model is: 0.6383763837638377\n"
     ]
    }
   ],
   "source": [
    "#KNeighbors \n",
    "num_neighbors = 12\n",
    "kneigh = KNeighborsClassifier(num_neighbors, weights = 'distance')\n",
    "kneigh.fit(x_train_lowercase, y_train_lowercase)\n",
    "y_pred_lowercase = kneigh.predict(x_test_lowercase)\n",
    "\n",
    "#Evaluate the model \n",
    "accuracy = accuracy_score(y_test_lowercase, y_pred_lowercase)\n",
    "f1 = cross_val_score(logistic, x , y_lowercase, scoring='f1_weighted',cv=3)\n",
    "confusion = confusion_matrix(y_test_lowercase, y_pred_lowercase)\n",
    "recall = recall_score(y_test_lowercase, y_pred_lowercase)\n",
    "\n",
    "#Print the metrics for the model \n",
    "print(f'The accuracy score of the model is: {accuracy}')\n",
    "print(f'The F1 of the model is: {f1.mean()}')\n",
    "print(f'The confusion matrix of the model is: {confusion}')\n",
    "print(f'The recall score of the model is: {recall}')"
   ]
  },
  {
   "cell_type": "markdown",
   "metadata": {},
   "source": [
    "* Try to do the same thing with numbers."
   ]
  },
  {
   "cell_type": "code",
   "execution_count": 38,
   "metadata": {},
   "outputs": [],
   "source": [
    "#Datos de entrenamiento y test \n",
    "x_train_number, x_test_number, y_train_number, y_test_number = train_test_split(x, y_number, test_size = .2, random_state = 0)\n"
   ]
  },
  {
   "cell_type": "code",
   "execution_count": 39,
   "metadata": {},
   "outputs": [
    {
     "name": "stdout",
     "output_type": "stream",
     "text": [
      "The accuracy score of the model is: 0.7334622823984526\n",
      "The F1 of the model is: 0.734498366872777\n",
      "The confusion matrix of the model is: [[8283 3365]\n",
      " [2836 8781]]\n",
      "The recall score of the model is: 0.755875010760093\n"
     ]
    }
   ],
   "source": [
    "# Your code here\n",
    "\n",
    "#Logistic Regression \n",
    "logistic = LogisticRegression(solver = 'liblinear')\n",
    "logistic.fit(x_train_number, y_train_number)\n",
    "y_pred_number = logistic.predict(x_test_number)\n",
    "\n",
    "#Evaluate the model \n",
    "accuracy = accuracy_score(y_test_number, y_pred_number)\n",
    "f1 = cross_val_score(logistic, x , y_number, scoring='f1_weighted',cv=3)\n",
    "confusion = confusion_matrix(y_test_number, y_pred_number)\n",
    "recall = recall_score(y_test_number, y_pred_number)\n",
    "\n",
    "#Print the metrics for the model \n",
    "print(f'The accuracy score of the model is: {accuracy}')\n",
    "print(f'The F1 of the model is: {f1.mean()}')\n",
    "print(f'The confusion matrix of the model is: {confusion}')\n",
    "print(f'The recall score of the model is: {recall}')"
   ]
  },
  {
   "cell_type": "code",
   "execution_count": 40,
   "metadata": {},
   "outputs": [
    {
     "name": "stderr",
     "output_type": "stream",
     "text": [
      "/Library/Frameworks/Python.framework/Versions/3.8/lib/python3.8/site-packages/sklearn/svm/_base.py:976: ConvergenceWarning: Liblinear failed to converge, increase the number of iterations.\n",
      "  warnings.warn(\"Liblinear failed to converge, increase \"\n"
     ]
    },
    {
     "name": "stdout",
     "output_type": "stream",
     "text": [
      "The accuracy score of the model is: 0.5745110681280894\n",
      "The F1 of the model is: 0.734498366872777\n",
      "The confusion matrix of the model is: [[10140  1508]\n",
      " [ 8391  3226]]\n",
      "The recall score of the model is: 0.2776964792975811\n"
     ]
    }
   ],
   "source": [
    "#SVM Classifier \n",
    "svm = OneVsOneClassifier(LinearSVC(random_state = 0, max_iter = 4000))\n",
    "svm.fit(x_train_number, y_train_number)\n",
    "y_pred_number = svm.predict(x_test_number)\n",
    "\n",
    "#Evaluate the model \n",
    "accuracy = accuracy_score(y_test_number, y_pred_number)\n",
    "f1 = cross_val_score(logistic, x , y_number, scoring='f1_weighted',cv=3)\n",
    "confusion = confusion_matrix(y_test_number, y_pred_number)\n",
    "recall = recall_score(y_test_number, y_pred_number)\n",
    "\n",
    "#Print the metrics for the model \n",
    "print(f'The accuracy score of the model is: {accuracy}')\n",
    "print(f'The F1 of the model is: {f1.mean()}')\n",
    "print(f'The confusion matrix of the model is: {confusion}')\n",
    "print(f'The recall score of the model is: {recall}')"
   ]
  },
  {
   "cell_type": "code",
   "execution_count": 41,
   "metadata": {},
   "outputs": [
    {
     "name": "stdout",
     "output_type": "stream",
     "text": [
      "The accuracy score of the model is: 0.6952933591231464\n",
      "The F1 of the model is: 0.734498366872777\n",
      "The confusion matrix of the model is: [[8860 2788]\n",
      " [4301 7316]]\n",
      "The recall score of the model is: 0.6297667211844711\n"
     ]
    }
   ],
   "source": [
    "#Decision Tree \n",
    "params = {'random_state': 0, 'max_depth': 4}\n",
    "tree = DecisionTreeClassifier(**params)\n",
    "tree.fit(x_train_number, y_train_number)\n",
    "y_pred_number = tree.predict(x_test_number)\n",
    "\n",
    "#Evaluate the model \n",
    "accuracy = accuracy_score(y_test_number, y_pred_number)\n",
    "f1 = cross_val_score(logistic, x , y_number, scoring='f1_weighted',cv=3)\n",
    "confusion = confusion_matrix(y_test_number, y_pred_number)\n",
    "recall = recall_score(y_test_number, y_pred_number)\n",
    "\n",
    "#Print the metrics for the model \n",
    "print(f'The accuracy score of the model is: {accuracy}')\n",
    "print(f'The F1 of the model is: {f1.mean()}')\n",
    "print(f'The confusion matrix of the model is: {confusion}')\n",
    "print(f'The recall score of the model is: {recall}')"
   ]
  },
  {
   "cell_type": "code",
   "execution_count": 42,
   "metadata": {},
   "outputs": [
    {
     "name": "stdout",
     "output_type": "stream",
     "text": [
      "The accuracy score of the model is: 0.880421233612723\n",
      "The F1 of the model is: 0.734498366872777\n",
      "The confusion matrix of the model is: [[ 9917  1731]\n",
      " [ 1051 10566]]\n",
      "The recall score of the model is: 0.9095291383317552\n"
     ]
    }
   ],
   "source": [
    "#KNeighbors \n",
    "num_neighbors = 12\n",
    "kneigh = KNeighborsClassifier(num_neighbors, weights = 'distance')\n",
    "kneigh.fit(x_train_number, y_train_number)\n",
    "y_pred_number = kneigh.predict(x_test_number)\n",
    "\n",
    "#Evaluate the model \n",
    "accuracy = accuracy_score(y_test_number, y_pred_number)\n",
    "f1 = cross_val_score(logistic, x , y_number, scoring='f1_weighted',cv=3)\n",
    "confusion = confusion_matrix(y_test_number, y_pred_number)\n",
    "recall = recall_score(y_test_number, y_pred_number)\n",
    "\n",
    "#Print the metrics for the model \n",
    "print(f'The accuracy score of the model is: {accuracy}')\n",
    "print(f'The F1 of the model is: {f1.mean()}')\n",
    "print(f'The confusion matrix of the model is: {confusion}')\n",
    "print(f'The recall score of the model is: {recall}')"
   ]
  },
  {
   "cell_type": "code",
   "execution_count": null,
   "metadata": {},
   "outputs": [],
   "source": []
  }
 ],
 "metadata": {
  "kernelspec": {
   "display_name": "Python 3",
   "language": "python",
   "name": "python3"
  },
  "language_info": {
   "codemirror_mode": {
    "name": "ipython",
    "version": 3
   },
   "file_extension": ".py",
   "mimetype": "text/x-python",
   "name": "python",
   "nbconvert_exporter": "python",
   "pygments_lexer": "ipython3",
   "version": "3.8.6"
  }
 },
 "nbformat": 4,
 "nbformat_minor": 2
}
